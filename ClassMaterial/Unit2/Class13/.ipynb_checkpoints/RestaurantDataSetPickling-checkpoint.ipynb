{
 "cells": [
  {
   "cell_type": "code",
   "execution_count": 1,
   "metadata": {},
   "outputs": [],
   "source": [
    "import pandas as pd\n",
    "import numpy as np\n",
    "from sklearn.pipeline import make_pipeline\n",
    "from sklearn.tree import DecisionTreeRegressor\n",
    "import category_encoders as ce"
   ]
  },
  {
   "cell_type": "code",
   "execution_count": 5,
   "metadata": {},
   "outputs": [],
   "source": [
    "df = pd.read_csv(r\"https://raw.githubusercontent.com/sydneyproject000/dat-11-15/main/ClassMaterial/Unit1/data/master.csv\", parse_dates = ['visit_date'])"
   ]
  },
  {
   "cell_type": "code",
   "execution_count": null,
   "metadata": {},
   "outputs": [],
   "source": []
  },
  {
   "cell_type": "code",
   "execution_count": 6,
   "metadata": {},
   "outputs": [],
   "source": [
    "df['yesterday'] = df.groupby('id').apply(lambda x: x['visitors'].shift()).values\n",
    "df['last_week'] = df.groupby('id').apply(lambda x: x['visitors'].shift(7)).values\n",
    "\n",
    "# fill in missing reservations\n",
    "df['reserve_visitors'] = df['reserve_visitors'].fillna(0)\n",
    "\n",
    "# drop missing values from shifts\n",
    "df = df.dropna()"
   ]
  },
  {
   "cell_type": "code",
   "execution_count": 7,
   "metadata": {},
   "outputs": [],
   "source": [
    "X = df[['id', 'yesterday', 'day_of_week']]\n",
    "y = df['visitors']"
   ]
  },
  {
   "cell_type": "code",
   "execution_count": 8,
   "metadata": {},
   "outputs": [],
   "source": [
    "# let's assume these were our optimized parameters\n",
    "tree = DecisionTreeRegressor(max_depth = 7, max_features = 0.8, min_samples_leaf = 10)\n",
    "\n",
    "pipe = make_pipeline(ce.TargetEncoder(), tree)"
   ]
  },
  {
   "cell_type": "code",
   "execution_count": 9,
   "metadata": {},
   "outputs": [
    {
     "data": {
      "text/plain": [
       "Pipeline(steps=[('targetencoder', TargetEncoder(cols=['id', 'day_of_week'])),\n",
       "                ('decisiontreeregressor',\n",
       "                 DecisionTreeRegressor(max_depth=7, max_features=0.8,\n",
       "                                       min_samples_leaf=10))])"
      ]
     },
     "execution_count": 9,
     "metadata": {},
     "output_type": "execute_result"
    }
   ],
   "source": [
    "# fit the tree, and export it\n",
    "pipe.fit(X, y)"
   ]
  },
  {
   "cell_type": "code",
   "execution_count": 10,
   "metadata": {},
   "outputs": [],
   "source": [
    "# the pickle module allows you to export saved models\n",
    "import pickle\n",
    "\n",
    "# rb -- WRITE the file in BYTES\n",
    "with open('pipe.pkl', 'wb') as export:\n",
    "    # this creates an external version of the file that we can now import later on\n",
    "    pickle.dump(pipe, export)"
   ]
  },
  {
   "cell_type": "code",
   "execution_count": 11,
   "metadata": {},
   "outputs": [],
   "source": [
    "# we can now import this, and re-use it on new data:  very handy\n",
    "\n",
    "with open('pipe.pkl', 'rb') as import_:\n",
    "    # this will import the pickled object again\n",
    "    pipe2 = pickle.load(import_)"
   ]
  },
  {
   "cell_type": "code",
   "execution_count": 12,
   "metadata": {},
   "outputs": [
    {
     "data": {
      "text/plain": [
       "Pipeline(steps=[('targetencoder', TargetEncoder(cols=['id', 'day_of_week'])),\n",
       "                ('decisiontreeregressor',\n",
       "                 DecisionTreeRegressor(max_depth=7, max_features=0.8,\n",
       "                                       min_samples_leaf=10))])"
      ]
     },
     "execution_count": 12,
     "metadata": {},
     "output_type": "execute_result"
    }
   ],
   "source": [
    "# here it is\n",
    "pipe2"
   ]
  },
  {
   "cell_type": "code",
   "execution_count": 13,
   "metadata": {},
   "outputs": [
    {
     "data": {
      "text/plain": [
       "array([19.67006418, 24.71952428, 32.24199288, ..., 61.10708899,\n",
       "       40.35955424, 61.10708899])"
      ]
     },
     "execution_count": 13,
     "metadata": {},
     "output_type": "execute_result"
    }
   ],
   "source": [
    "# and we can use it to make new predictions\n",
    "pipe2.predict(X)"
   ]
  },
  {
   "cell_type": "code",
   "execution_count": 14,
   "metadata": {},
   "outputs": [],
   "source": [
    "id_='fgdsfdakfd'\n",
    "day_of_week = 'Sunday'\n",
    "yesterday = 33\n"
   ]
  },
  {
   "cell_type": "code",
   "execution_count": 15,
   "metadata": {},
   "outputs": [
    {
     "data": {
      "text/html": [
       "<div>\n",
       "<style scoped>\n",
       "    .dataframe tbody tr th:only-of-type {\n",
       "        vertical-align: middle;\n",
       "    }\n",
       "\n",
       "    .dataframe tbody tr th {\n",
       "        vertical-align: top;\n",
       "    }\n",
       "\n",
       "    .dataframe thead th {\n",
       "        text-align: right;\n",
       "    }\n",
       "</style>\n",
       "<table border=\"1\" class=\"dataframe\">\n",
       "  <thead>\n",
       "    <tr style=\"text-align: right;\">\n",
       "      <th></th>\n",
       "      <th>id</th>\n",
       "      <th>yesterday</th>\n",
       "      <th>day_of_week</th>\n",
       "    </tr>\n",
       "  </thead>\n",
       "  <tbody>\n",
       "    <tr>\n",
       "      <th>0</th>\n",
       "      <td>fgdsfdakfd</td>\n",
       "      <td>33</td>\n",
       "      <td>Sunday</td>\n",
       "    </tr>\n",
       "  </tbody>\n",
       "</table>\n",
       "</div>"
      ],
      "text/plain": [
       "           id  yesterday day_of_week\n",
       "0  fgdsfdakfd         33      Sunday"
      ]
     },
     "execution_count": 15,
     "metadata": {},
     "output_type": "execute_result"
    }
   ],
   "source": [
    "sample = {'id':id_,\n",
    "         'yesterday': yesterday,\n",
    "         'day_of_week': day_of_week}\n",
    "pd.DataFrame(sample, index = [0])"
   ]
  },
  {
   "cell_type": "code",
   "execution_count": null,
   "metadata": {},
   "outputs": [],
   "source": []
  }
 ],
 "metadata": {
  "kernelspec": {
   "display_name": "Python 3",
   "language": "python",
   "name": "python3"
  },
  "language_info": {
   "codemirror_mode": {
    "name": "ipython",
    "version": 3
   },
   "file_extension": ".py",
   "mimetype": "text/x-python",
   "name": "python",
   "nbconvert_exporter": "python",
   "pygments_lexer": "ipython3",
   "version": "3.8.8"
  }
 },
 "nbformat": 4,
 "nbformat_minor": 4
}
