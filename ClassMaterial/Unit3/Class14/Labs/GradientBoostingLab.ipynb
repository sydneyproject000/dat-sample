{
 "cells": [
  {
   "cell_type": "markdown",
   "metadata": {},
   "source": [
    "### Gradient Boosting Lab\n",
    "\n",
    "Now that we've discussed the steps involved in the gradient boosting algorithm, try and re-use it on your dataset that you turned in for HW II, and try and find the best parameters for it using the same process that you used on the homework. \n",
    "\n",
    "For now, try and find the right combination between four different combinations of values:\n",
    "\n",
    " - learning rate\n",
    " - tree depth\n",
    " - number of boosting rounds\n",
    " - max features\n",
    "\n",
    "When you are finished, compare your validation and test scores with what you had using a single decision tree."
   ]
  },
  {
   "cell_type": "code",
   "execution_count": null,
   "metadata": {},
   "outputs": [],
   "source": []
  }
 ],
 "metadata": {
  "kernelspec": {
   "display_name": "Python 3",
   "language": "python",
   "name": "python3"
  },
  "language_info": {
   "codemirror_mode": {
    "name": "ipython",
    "version": 3
   },
   "file_extension": ".py",
   "mimetype": "text/x-python",
   "name": "python",
   "nbconvert_exporter": "python",
   "pygments_lexer": "ipython3",
   "version": "3.8.5"
  }
 },
 "nbformat": 4,
 "nbformat_minor": 4
}
